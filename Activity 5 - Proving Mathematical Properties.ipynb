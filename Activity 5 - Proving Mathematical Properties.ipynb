{
 "cells": [
  {
   "cell_type": "markdown",
   "id": "constant-piece",
   "metadata": {},
   "source": [
    "# Activity 5 - Proving Mathematical Properties"
   ]
  },
  {
   "cell_type": "markdown",
   "id": "hazardous-brighton",
   "metadata": {},
   "source": [
    "Import necessary libraries."
   ]
  },
  {
   "cell_type": "code",
   "execution_count": 1,
   "id": "level-resident",
   "metadata": {},
   "outputs": [],
   "source": [
    "import matplotlib.pyplot as plt\n",
    "import numpy as np"
   ]
  },
  {
   "cell_type": "markdown",
   "id": "warming-empty",
   "metadata": {},
   "source": [
    "### Creating the array equivalence checking function."
   ]
  },
  {
   "cell_type": "markdown",
   "id": "consecutive-stanford",
   "metadata": {},
   "source": [
    "Function to check if arrays are equal."
   ]
  },
  {
   "cell_type": "code",
   "execution_count": 2,
   "id": "musical-advertising",
   "metadata": {},
   "outputs": [],
   "source": [
    "def checkArraysEqual(array1, array2):\n",
    "    \"\"\"\n",
    "    A function that checks if two arrays are equal. This takes two Python lists as parameters.\n",
    "    Usage: checkArraysEqual(list1, list2)\n",
    "    --where list1 and list2 are variables whose data types are lists.\n",
    "    \"\"\"\n",
    "    if len(array1) == len(array2): # Check length of the two lists if they are equal.\n",
    "        for (x, y) in zip(array1, array2): # Iterate through both lists if the length of the lists are equal.\n",
    "            if x != y: # Check if the current value of indexes are not equal.\n",
    "                return False # Return 'False' to denote that the values in each list differs from one another.\n",
    "        return True\n",
    "    else: # Proceed here if the length of the two lists are not equal.\n",
    "        return False # Return 'False' to denote that the values in each list differs from one another."
   ]
  },
  {
   "cell_type": "markdown",
   "id": "racial-fiction",
   "metadata": {},
   "source": [
    "Declaring test arrays where the expected result is False due to difference in length."
   ]
  },
  {
   "cell_type": "code",
   "execution_count": 3,
   "id": "common-puppy",
   "metadata": {},
   "outputs": [
    {
     "data": {
      "text/plain": [
       "False"
      ]
     },
     "execution_count": 3,
     "metadata": {},
     "output_type": "execute_result"
    }
   ],
   "source": [
    "x = [0, 1, 2, 3, 4]\n",
    "y = [5, 6, 7, 8]\n",
    "\n",
    "checkArraysEqual(x,y)"
   ]
  },
  {
   "cell_type": "markdown",
   "id": "acute-letters",
   "metadata": {},
   "source": [
    "Declaring test arrays where the expected result is False due to difference in values."
   ]
  },
  {
   "cell_type": "code",
   "execution_count": 4,
   "id": "changing-riding",
   "metadata": {},
   "outputs": [
    {
     "data": {
      "text/plain": [
       "False"
      ]
     },
     "execution_count": 4,
     "metadata": {},
     "output_type": "execute_result"
    }
   ],
   "source": [
    "x = [0, 1, 2, 3, 4]\n",
    "y = [5, 6, 7, 8, 9]\n",
    "\n",
    "checkArraysEqual(x,y)"
   ]
  },
  {
   "cell_type": "markdown",
   "id": "imported-navigator",
   "metadata": {},
   "source": [
    "Declaring test arrays where the expected result is False due to difference in arrangement of same values."
   ]
  },
  {
   "cell_type": "code",
   "execution_count": 5,
   "id": "facial-approval",
   "metadata": {},
   "outputs": [
    {
     "data": {
      "text/plain": [
       "False"
      ]
     },
     "execution_count": 5,
     "metadata": {},
     "output_type": "execute_result"
    }
   ],
   "source": [
    "x = [0, 1, 2, 3, 4]\n",
    "y = [5, 6, 7, 8, 9]\n",
    "\n",
    "checkArraysEqual(x,y)"
   ]
  },
  {
   "cell_type": "markdown",
   "id": "stock-valentine",
   "metadata": {},
   "source": [
    "Declaring test arrays where the expected result is True."
   ]
  },
  {
   "cell_type": "code",
   "execution_count": 6,
   "id": "presidential-simple",
   "metadata": {},
   "outputs": [
    {
     "data": {
      "text/plain": [
       "True"
      ]
     },
     "execution_count": 6,
     "metadata": {},
     "output_type": "execute_result"
    }
   ],
   "source": [
    "x = [3, 1, 5, 2, 0]\n",
    "y = [3, 1, 5, 2, 0]\n",
    "\n",
    "checkArraysEqual(x,y)"
   ]
  },
  {
   "cell_type": "markdown",
   "id": "respective-primary",
   "metadata": {},
   "source": [
    "## Mathematical Properties"
   ]
  },
  {
   "cell_type": "markdown",
   "id": "above-country",
   "metadata": {},
   "source": [
    "### Commutative Property\n",
    "\n",
    "The commutative property is expressed in the following mathematical form:<br>\n",
    "<br>\n",
    "$$\n",
    "  a[n]*b[n] = b[n]*a[n]\n",
    "$$\n",
    "<br>\n",
    "It states that the order in which signals can be convoluted can be exchanged."
   ]
  },
  {
   "cell_type": "markdown",
   "id": "spare-nashville",
   "metadata": {},
   "source": [
    "Declaring arrays `a` and `b`."
   ]
  },
  {
   "cell_type": "code",
   "execution_count": 7,
   "id": "fluid-eagle",
   "metadata": {},
   "outputs": [],
   "source": [
    "a = [0, 1, 2, 3, 4]\n",
    "b = [5, 6, 7, 8, 9]"
   ]
  },
  {
   "cell_type": "markdown",
   "id": "recorded-taxation",
   "metadata": {},
   "source": [
    "$a[n] * b[n]$"
   ]
  },
  {
   "cell_type": "code",
   "execution_count": 8,
   "id": "italic-terrain",
   "metadata": {},
   "outputs": [
    {
     "data": {
      "text/plain": [
       "array([ 0,  5, 16, 34, 60, 70, 70, 59, 36])"
      ]
     },
     "execution_count": 8,
     "metadata": {},
     "output_type": "execute_result"
    }
   ],
   "source": [
    "result1 = np.convolve(a, b)\n",
    "result1"
   ]
  },
  {
   "cell_type": "markdown",
   "id": "logical-longer",
   "metadata": {},
   "source": [
    "$b[n] * a[n]$"
   ]
  },
  {
   "cell_type": "code",
   "execution_count": 9,
   "id": "moved-parameter",
   "metadata": {},
   "outputs": [
    {
     "data": {
      "text/plain": [
       "array([ 0,  5, 16, 34, 60, 70, 70, 59, 36])"
      ]
     },
     "execution_count": 9,
     "metadata": {},
     "output_type": "execute_result"
    }
   ],
   "source": [
    "result2 = np.convolve(b, a)\n",
    "result2"
   ]
  },
  {
   "cell_type": "markdown",
   "id": "certain-cargo",
   "metadata": {},
   "source": [
    "Check that the results are the same."
   ]
  },
  {
   "cell_type": "code",
   "execution_count": 10,
   "id": "transsexual-horizontal",
   "metadata": {},
   "outputs": [
    {
     "data": {
      "text/plain": [
       "True"
      ]
     },
     "execution_count": 10,
     "metadata": {},
     "output_type": "execute_result"
    }
   ],
   "source": [
    "checkArraysEqual(result1, result2)"
   ]
  },
  {
   "cell_type": "markdown",
   "id": "abstract-circular",
   "metadata": {},
   "source": [
    "### Associative Property\n",
    "\n",
    "The associative property is expressed in the following mathematical form:<br>\n",
    "<br>\n",
    "$$\n",
    "  (a[n]*b[n]) * c[n] = a[n] * (b[n]*c[n])\n",
    "$$\n",
    "<br>\n",
    "It describes that two signals can be convolved to produce an intermediate signal, then convolve the intermediate signal with the third signal, and that the order of convolutions does not matter."
   ]
  },
  {
   "cell_type": "markdown",
   "id": "approximate-theology",
   "metadata": {},
   "source": [
    "Declaring arrays `a`, `b`, and `c`."
   ]
  },
  {
   "cell_type": "code",
   "execution_count": 11,
   "id": "temporal-thread",
   "metadata": {},
   "outputs": [],
   "source": [
    "a = [0, 1, 2, 3, 4]\n",
    "b = [5, 6, 7, 8, 9]\n",
    "c = [-1, -1, 0, 1, 1]"
   ]
  },
  {
   "cell_type": "markdown",
   "id": "fantastic-aviation",
   "metadata": {},
   "source": [
    "$(a[n] * b[n]) * c[n]$"
   ]
  },
  {
   "cell_type": "code",
   "execution_count": 12,
   "id": "spiritual-medline",
   "metadata": {},
   "outputs": [
    {
     "data": {
      "text/plain": [
       "array([   0,   -5,  -21,  -50,  -89, -109,  -90,  -35,   35,  104,  129,\n",
       "         95,   36])"
      ]
     },
     "execution_count": 12,
     "metadata": {},
     "output_type": "execute_result"
    }
   ],
   "source": [
    "result1 = np.convolve(a, b)\n",
    "result1 = np.convolve(result1, c)\n",
    "result1"
   ]
  },
  {
   "cell_type": "markdown",
   "id": "agreed-seminar",
   "metadata": {},
   "source": [
    "$a[n] * (b[n] * c[n])$"
   ]
  },
  {
   "cell_type": "code",
   "execution_count": 13,
   "id": "wrong-garage",
   "metadata": {},
   "outputs": [
    {
     "data": {
      "text/plain": [
       "array([   0,   -5,  -21,  -50,  -89, -109,  -90,  -35,   35,  104,  129,\n",
       "         95,   36])"
      ]
     },
     "execution_count": 13,
     "metadata": {},
     "output_type": "execute_result"
    }
   ],
   "source": [
    "result2 = np.convolve(b, c)\n",
    "result2 = np.convolve(a, result2)\n",
    "result2"
   ]
  },
  {
   "cell_type": "markdown",
   "id": "weighted-learning",
   "metadata": {},
   "source": [
    "Check that the results are the same."
   ]
  },
  {
   "cell_type": "code",
   "execution_count": 14,
   "id": "broke-replica",
   "metadata": {},
   "outputs": [
    {
     "data": {
      "text/plain": [
       "True"
      ]
     },
     "execution_count": 14,
     "metadata": {},
     "output_type": "execute_result"
    }
   ],
   "source": [
    "checkArraysEqual(result1, result2)"
   ]
  },
  {
   "cell_type": "markdown",
   "id": "saved-exploration",
   "metadata": {},
   "source": [
    "### Distributive Property\n",
    "\n",
    "The distributive property is expressed in the following mathematical form:<br>\n",
    "<br>\n",
    "$$\n",
    "  a[n]*b[n] + a[n]*c[n] = a[n] * (b[n]+c[n])\n",
    "$$\n",
    "<br>\n",
    "It describes the operation of parallel systems with added outputs. It states that two or more systems can share the same input and have their outputs added, and produce the same results."
   ]
  },
  {
   "cell_type": "markdown",
   "id": "accurate-reunion",
   "metadata": {},
   "source": [
    "Declaring arrays `a`, `b`, and `c`."
   ]
  },
  {
   "cell_type": "code",
   "execution_count": 15,
   "id": "integrated-landscape",
   "metadata": {},
   "outputs": [],
   "source": [
    "a = [0, 1, 2, 3, 4]\n",
    "b = [5, 6, 7, 8, 9]\n",
    "c = [-1, -1, 0, 1, 1]"
   ]
  },
  {
   "cell_type": "markdown",
   "id": "funded-weight",
   "metadata": {},
   "source": [
    "$a[n]*b[n] + a[n]*c[n]$"
   ]
  },
  {
   "cell_type": "code",
   "execution_count": 16,
   "id": "mediterranean-session",
   "metadata": {},
   "outputs": [
    {
     "data": {
      "text/plain": [
       "array([ 0,  4, 13, 29, 54, 69, 75, 66, 40])"
      ]
     },
     "execution_count": 16,
     "metadata": {},
     "output_type": "execute_result"
    }
   ],
   "source": [
    "result1 = np.add(np.convolve(a, b), np.convolve(a, c))\n",
    "result1"
   ]
  },
  {
   "cell_type": "markdown",
   "id": "textile-contemporary",
   "metadata": {},
   "source": [
    "$a[n] * (b[n]+c[n])$"
   ]
  },
  {
   "cell_type": "code",
   "execution_count": 17,
   "id": "fiscal-literature",
   "metadata": {},
   "outputs": [
    {
     "data": {
      "text/plain": [
       "array([ 0,  4, 13, 29, 54, 69, 75, 66, 40])"
      ]
     },
     "execution_count": 17,
     "metadata": {},
     "output_type": "execute_result"
    }
   ],
   "source": [
    "result2 = np.convolve(a, np.add(b,c))\n",
    "result2"
   ]
  },
  {
   "cell_type": "markdown",
   "id": "understanding-seminar",
   "metadata": {},
   "source": [
    "Check that the results are the same."
   ]
  },
  {
   "cell_type": "code",
   "execution_count": 18,
   "id": "temporal-swing",
   "metadata": {},
   "outputs": [
    {
     "data": {
      "text/plain": [
       "True"
      ]
     },
     "execution_count": 18,
     "metadata": {},
     "output_type": "execute_result"
    }
   ],
   "source": [
    "checkArraysEqual(result1, result2)"
   ]
  },
  {
   "cell_type": "markdown",
   "id": "promotional-upset",
   "metadata": {},
   "source": [
    "### Transference Between Input and Output\n",
    "\n",
    "The transference between input and output property is expressed as following:<br>\n",
    "<br>\n",
    "$$\n",
    "  x[n]*h[n] = y[n]\\\\\n",
    "    same\\ linear\\ change\\ on\\ x\\ and\\ y  \\\\\n",
    "  x'[n]*h[n] = y'[n] \n",
    "$$\n",
    "<br>\n",
    "\n",
    "$$\n",
    "    y_{1}'[n] = x'[n]*h[n]\n",
    "$$\n",
    "<br>\n",
    "\n",
    "$$\n",
    "    x[n]*h[n] = y[n]\\\\\n",
    "    y[n]\\ undergoes\\ same\\ linear\\ change\\ as\\ x\\ = y_{2}'[n]\n",
    "$$\n",
    "<br>\n",
    "\n",
    "$$\n",
    "    y_{1}'[n] = y_{2}'[n]\n",
    "$$\n",
    "<br>\n",
    "\n",
    "It states that suppose the input signal is generating an output signal. If the same input signal is changed in some linear way, resulting in a new input signal, the resulting output signal is changed in the exact same linear way that the input signal was changed."
   ]
  },
  {
   "cell_type": "markdown",
   "id": "increased-control",
   "metadata": {},
   "source": [
    "Declaring arrays `x`, `h` and the `linear_change` value."
   ]
  },
  {
   "cell_type": "code",
   "execution_count": 19,
   "id": "numeric-birthday",
   "metadata": {},
   "outputs": [],
   "source": [
    "x = [0, 1, 2, 3, 4]\n",
    "h = [5, 6, 7, 8, 9]\n",
    "linear_change = 3"
   ]
  },
  {
   "cell_type": "markdown",
   "id": "social-focus",
   "metadata": {},
   "source": [
    "$x[n]*h[n] = y[n]$"
   ]
  },
  {
   "cell_type": "code",
   "execution_count": 20,
   "id": "exciting-rugby",
   "metadata": {},
   "outputs": [
    {
     "data": {
      "text/plain": [
       "array([ 0,  5, 16, 34, 60, 70, 70, 59, 36])"
      ]
     },
     "execution_count": 20,
     "metadata": {},
     "output_type": "execute_result"
    }
   ],
   "source": [
    "y = np.convolve(x, h)\n",
    "y"
   ]
  },
  {
   "cell_type": "markdown",
   "id": "continent-aside",
   "metadata": {},
   "source": [
    "$x'[n]*h[n] = y_{1}'[n]$"
   ]
  },
  {
   "cell_type": "code",
   "execution_count": 21,
   "id": "measured-switzerland",
   "metadata": {},
   "outputs": [
    {
     "data": {
      "text/plain": [
       "array([  0,  15,  48, 102, 180, 210, 210, 177, 108])"
      ]
     },
     "execution_count": 21,
     "metadata": {},
     "output_type": "execute_result"
    }
   ],
   "source": [
    "x_change = np.multiply(x, linear_change)\n",
    "y_change1 = np.convolve(x_change, h)\n",
    "y_change1"
   ]
  },
  {
   "cell_type": "markdown",
   "id": "popular-plumbing",
   "metadata": {},
   "source": [
    "$y[n]\\ undergoes\\ same\\ linear\\ change\\ as\\ x = y_{2}'[n]$"
   ]
  },
  {
   "cell_type": "code",
   "execution_count": 22,
   "id": "sublime-nickname",
   "metadata": {},
   "outputs": [
    {
     "data": {
      "text/plain": [
       "array([  0,  15,  48, 102, 180, 210, 210, 177, 108])"
      ]
     },
     "execution_count": 22,
     "metadata": {},
     "output_type": "execute_result"
    }
   ],
   "source": [
    "y_change2 = np.multiply(y, linear_change)\n",
    "y_change2"
   ]
  },
  {
   "cell_type": "markdown",
   "id": "dutch-boston",
   "metadata": {},
   "source": [
    "Check that the results are the same ($y_{1}'[n] = y_{2}'[n]$)."
   ]
  },
  {
   "cell_type": "code",
   "execution_count": 23,
   "id": "polyphonic-accused",
   "metadata": {},
   "outputs": [
    {
     "data": {
      "text/plain": [
       "True"
      ]
     },
     "execution_count": 23,
     "metadata": {},
     "output_type": "execute_result"
    }
   ],
   "source": [
    "checkArraysEqual(y_change1, y_change2)"
   ]
  }
 ],
 "metadata": {
  "kernelspec": {
   "display_name": "Python 3",
   "language": "python",
   "name": "python3"
  },
  "language_info": {
   "codemirror_mode": {
    "name": "ipython",
    "version": 3
   },
   "file_extension": ".py",
   "mimetype": "text/x-python",
   "name": "python",
   "nbconvert_exporter": "python",
   "pygments_lexer": "ipython3",
   "version": "3.9.0"
  }
 },
 "nbformat": 4,
 "nbformat_minor": 5
}
